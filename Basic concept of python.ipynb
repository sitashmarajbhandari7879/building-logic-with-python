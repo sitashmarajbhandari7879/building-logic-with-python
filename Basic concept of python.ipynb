{
 "cells": [
  {
   "cell_type": "code",
   "execution_count": 8,
   "id": "b23bff50",
   "metadata": {},
   "outputs": [
    {
     "name": "stdout",
     "output_type": "stream",
     "text": [
      "3\n",
      "Square of 0 :  0\n",
      "Square of 1 :  1\n",
      "Square of 2 :  4\n"
     ]
    }
   ],
   "source": [
    "\"\"\" Given n, find square of all numbers before n\"\"\"\n",
    "\n",
    "n = int(input())\n",
    "\n",
    "for i in range(n):\n",
    "    print(\"Square of\" , i , \": \", i*i)"
   ]
  },
  {
   "cell_type": "code",
   "execution_count": 10,
   "id": "9e759a43",
   "metadata": {},
   "outputs": [
    {
     "name": "stdout",
     "output_type": "stream",
     "text": [
      "123\n"
     ]
    }
   ],
   "source": [
    "\"\"\"Give n, give print all the number before as string n \"\"\"\n",
    "i = ''\n",
    "n1 =  int(input())\n",
    "for j in range(n1+1):\n",
    "    if j >= 1 and j <= 150:\n",
    "        i = i + str(j)\n",
    "print (i)"
   ]
  },
  {
   "cell_type": "code",
   "execution_count": 11,
   "id": "612da2b6",
   "metadata": {},
   "outputs": [
    {
     "name": "stdout",
     "output_type": "stream",
     "text": [
      "3\n",
      "ush\n",
      "dhifs\n",
      "sdfz\n",
      "3\n"
     ]
    }
   ],
   "source": [
    "\"\"\" Calculate unique number of words from list of words\"\"\"\n",
    "\n",
    "N = int (input())\n",
    "S = set()\n",
    "for i in range(N):\n",
    "    Countries = input()\n",
    "    S.add(Countries)\n",
    "\n",
    "\n",
    "if N > 0 and N <= 1000:\n",
    "    count = len(set(S))\n",
    "print(count)"
   ]
  },
  {
   "cell_type": "code",
   "execution_count": 3,
   "id": "73c35cf5",
   "metadata": {},
   "outputs": [
    {
     "name": "stdout",
     "output_type": "stream",
     "text": [
      "4\n",
      "\n",
      "Enter the numbers : 23 24 26 27\n",
      "26\n"
     ]
    }
   ],
   "source": [
    "\"\"\" Print second largest number from list of input\"\"\"\n",
    "\n",
    "n = int(input()) # enter the count of number to be inputed\n",
    "if n>=2 and n<=10:\n",
    "    arr = list(map(int,input(\"\\nEnter the numbers : \").split()))[:n]\n",
    "else:\n",
    "    print('invalid')\n",
    "    arr = list(map(int,input(\"\\nEnter the numbers : \").split()))[:n]\n",
    "\n",
    "largest = 0\n",
    "second = 0\n",
    "for i in arr:\n",
    "    if i > largest:\n",
    "        largest = i\n",
    "arr.remove(abs(largest))\n",
    "\n",
    "for i in arr:\n",
    "    if i > second and i< largest:\n",
    "        second = i\n",
    "\n",
    "print(second)\n",
    "\n"
   ]
  },
  {
   "cell_type": "code",
   "execution_count": null,
   "id": "5bf5d18d",
   "metadata": {},
   "outputs": [],
   "source": []
  },
  {
   "cell_type": "code",
   "execution_count": null,
   "id": "26f2870f",
   "metadata": {},
   "outputs": [],
   "source": []
  }
 ],
 "metadata": {
  "kernelspec": {
   "display_name": "Python 3 (ipykernel)",
   "language": "python",
   "name": "python3"
  },
  "language_info": {
   "codemirror_mode": {
    "name": "ipython",
    "version": 3
   },
   "file_extension": ".py",
   "mimetype": "text/x-python",
   "name": "python",
   "nbconvert_exporter": "python",
   "pygments_lexer": "ipython3",
   "version": "3.10.6"
  }
 },
 "nbformat": 4,
 "nbformat_minor": 5
}
