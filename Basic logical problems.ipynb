{
 "cells": [
  {
   "cell_type": "code",
   "execution_count": 1,
   "id": "b23bff50",
   "metadata": {},
   "outputs": [
    {
     "name": "stdout",
     "output_type": "stream",
     "text": [
      "3\n",
      "Square of 0 :  0\n",
      "Square of 1 :  1\n",
      "Square of 2 :  4\n"
     ]
    }
   ],
   "source": [
    "\"\"\" Given n, find square of all numbers before n\"\"\"\n",
    "\n",
    "n = int(input())\n",
    "\n",
    "for i in range(n):\n",
    "    print(\"Square of\" , i , \": \", i*i)"
   ]
  },
  {
   "cell_type": "code",
   "execution_count": 3,
   "id": "9e759a43",
   "metadata": {},
   "outputs": [
    {
     "name": "stdout",
     "output_type": "stream",
     "text": [
      "5\n",
      "1234\n"
     ]
    }
   ],
   "source": [
    "\"\"\"Give n, print all the number before as string n \"\"\"\n",
    "i = ''\n",
    "n1 =  int(input())\n",
    "for j in range(n1):\n",
    "    if j >= 1 and j <= 150:\n",
    "        i = i + str(j)\n",
    "print (i)"
   ]
  },
  {
   "cell_type": "code",
   "execution_count": 4,
   "id": "612da2b6",
   "metadata": {},
   "outputs": [
    {
     "name": "stdout",
     "output_type": "stream",
     "text": [
      "usa usa usa nepal city ktm nepal\n",
      "4\n"
     ]
    }
   ],
   "source": [
    "\"\"\" Calculate unique number of words from list of words\"\"\"\n",
    "\n",
    "Words = input(\"Enter\").split()\n",
    "print(len(set(Words)))\n"
   ]
  },
  {
   "cell_type": "code",
   "execution_count": 5,
   "id": "73c35cf5",
   "metadata": {},
   "outputs": [
    {
     "name": "stdout",
     "output_type": "stream",
     "text": [
      "4\n",
      "\n",
      "Enter the numbers : 1 2 3 5 6\n",
      "3\n"
     ]
    }
   ],
   "source": [
    "\"\"\" Print second largest number from list of input\"\"\"\n",
    "\n",
    "n = int(input()) # enter the count of number to be inputed\n",
    "if n>=2 and n<=10:\n",
    "    arr = list(map(int,input(\"\\nEnter the numbers : \").split()))[:n] # only n numbers of input is taken\n",
    "else:\n",
    "    print('invalid')\n",
    "    arr = list(map(int,input(\"\\nEnter the numbers : \").split()))[:n]\n",
    "\n",
    "largest = 0\n",
    "second = 0\n",
    "for i in arr:\n",
    "    if i > largest:\n",
    "        largest = i\n",
    "arr.remove(abs(largest))\n",
    "\n",
    "for i in arr:\n",
    "    if i > second and i< largest:\n",
    "        second = i\n",
    "\n",
    "print(second)\n",
    "\n"
   ]
  },
  {
   "cell_type": "code",
   "execution_count": 6,
   "id": "5bf5d18d",
   "metadata": {},
   "outputs": [
    {
     "name": "stdout",
     "output_type": "stream",
     "text": [
      "abrackdabra\n",
      "abrackdabra\n"
     ]
    }
   ],
   "source": [
    "\"Replacing letter in a specific position\"\n",
    "\n",
    "# Method 1\n",
    "\n",
    "string = \"abracadabra\"\n",
    "l = list(string)\n",
    "l[5] = 'k'\n",
    "string = ''.join(l)\n",
    "print (string)\n",
    "\n",
    "\n",
    "# Method 2\n",
    "\n",
    "string = string[:5] + \"k\" + string[6:]\n",
    "print (string)\n"
   ]
  },
  {
   "cell_type": "code",
   "execution_count": 9,
   "id": "e1c179b8",
   "metadata": {},
   "outputs": [
    {
     "name": "stdout",
     "output_type": "stream",
     "text": [
      "Enter the string abcdefghijk\n",
      "Enter the postion and character to insert 7 Z\n",
      "abcdefgZijk\n"
     ]
    }
   ],
   "source": [
    "\" Read a given string, change the character at a given index and then print the modified string.\"\n",
    "\n",
    "def mutate_string(string, position, character):\n",
    "    \n",
    "    l = list(string)\n",
    "    l[position] = character\n",
    "    alt_string = ''.join(l)\n",
    "    \n",
    "    return alt_string\n",
    "\n",
    "if __name__ == '__main__':\n",
    "    \n",
    "    s = input(\"Enter the string \")\n",
    "    i, c = input(\"Enter the postion and character to insert \").split()\n",
    "    s_new = mutate_string(s, int(i), c)\n",
    "    \n",
    "    print(s_new)"
   ]
  },
  {
   "cell_type": "code",
   "execution_count": null,
   "id": "abd7aef9",
   "metadata": {},
   "outputs": [],
   "source": [
    "\"\"\" You are given a string find out if the string contains: alphanumeric characters, alphabetical \n",
    "characters, digits, lowercase and uppercase characters.\"\"\"\n",
    "\n",
    "\n",
    "s1 = input(\"Enter the string\")\n",
    "\n",
    "# Method 1\n",
    "\n",
    "print(any(map(str.isalnum, s1)))\n",
    "print(any(map(str.isalpha, s1)))\n",
    "print(any(map(str.isdigit, s1)))\n",
    "print(any(map(str.islower, s1)))\n",
    "print(any(map(str.isupper, s1)))\n",
    "\n",
    "# Method 2\n",
    "\n",
    "print (any(c.isalnum() for c in s1))\n",
    "print (any(c.isalpha() for c in s1))\n",
    "print (any(c.isdigit() for c in s1))\n",
    "print (any(c.islower() for c in s1))\n",
    "print (any(c.isupper() for c in s1))"
   ]
  },
  {
   "cell_type": "code",
   "execution_count": null,
   "id": "b5bc5f75",
   "metadata": {},
   "outputs": [],
   "source": []
  },
  {
   "cell_type": "code",
   "execution_count": null,
   "id": "331058c6",
   "metadata": {},
   "outputs": [],
   "source": [
    "len(s)"
   ]
  },
  {
   "cell_type": "code",
   "execution_count": null,
   "id": "f20316f4",
   "metadata": {},
   "outputs": [],
   "source": []
  }
 ],
 "metadata": {
  "kernelspec": {
   "display_name": "Python 3 (ipykernel)",
   "language": "python",
   "name": "python3"
  },
  "language_info": {
   "codemirror_mode": {
    "name": "ipython",
    "version": 3
   },
   "file_extension": ".py",
   "mimetype": "text/x-python",
   "name": "python",
   "nbconvert_exporter": "python",
   "pygments_lexer": "ipython3",
   "version": "3.10.6"
  }
 },
 "nbformat": 4,
 "nbformat_minor": 5
}
