{
 "cells": [
  {
   "cell_type": "code",
   "execution_count": null,
   "id": "10ff9043",
   "metadata": {},
   "outputs": [],
   "source": [
    "\"\"\" In a dictionary containing key/value pairs of name:[marks] for a list of students.\n",
    "Print the average of the marks array for the student given their name is provided\n",
    "Sample Input \n",
    "3\n",
    "Krishna 67 68 69\n",
    "Arjun 70 98 63\n",
    "Malika 52 56 60\n",
    "Malika\n",
    "Sample Output 0\n",
    "56.00 \"\"\"\n",
    "\n",
    "n = int(input('n'))\n",
    "students  = {}\n",
    "\n",
    "if n>=2 and n<=10:\n",
    "    for i in range(n):\n",
    "    name, *marks = input('enter name and marks for 3 subjects \\n').split() # * allows multiple values to be stored at once\n",
    "    score = list(map(float, marks)) #convert list of string into float\n",
    "    students[name]=sum(score)/len(score)\n",
    "    \n",
    "name = input('student name: ')\n",
    "\n",
    "for key, value in students.items():\n",
    "    if key == name:\n",
    "    print(\"%.2f\" %value) # print 2 place after decimal "
   ]
  },
  {
   "cell_type": "code",
   "execution_count": null,
   "id": "9de90610",
   "metadata": {},
   "outputs": [],
   "source": [
    "\"\"\" Find if the number is armstrong or not armstrong  \"\"\"\n",
    "\n",
    "n = str(input())\n",
    "temp_list = list()\n",
    "\n",
    "def arm_strong(n):\n",
    "    for i in n:\n",
    "    temp_list.append(int(i)**3)\n",
    "    return sum(temp_list)\n",
    "\n",
    "if arm_strong(n) == int(n):\n",
    "    print(\"armstrong\")\n",
    "else:\n",
    "    print('not')"
   ]
  },
  {
   "cell_type": "code",
   "execution_count": 9,
   "id": "a8535ce8",
   "metadata": {},
   "outputs": [],
   "source": [
    "\"\"\" find if a numbr is prime or not \"\"\" \n",
    "\n",
    "def is_prime(n):\n",
    "    if n > 1:\n",
    "        for i in range(2,n):\n",
    "            if (n % i)== 0 and n != i:\n",
    "                r = 'not prime'\n",
    "                break\n",
    "            else:\n",
    "                r = \"prime\"\n",
    "        return r"
   ]
  },
  {
   "cell_type": "code",
   "execution_count": 10,
   "id": "1adf6188",
   "metadata": {},
   "outputs": [
    {
     "name": "stdout",
     "output_type": "stream",
     "text": [
      "12\n",
      "result: not prime\n"
     ]
    }
   ],
   "source": [
    "n = int(input())\n",
    "result = is_prime(n)\n",
    "print(\"result:\",result)\n"
   ]
  },
  {
   "cell_type": "code",
   "execution_count": 11,
   "id": "888f7a71",
   "metadata": {},
   "outputs": [],
   "source": [
    "\"\"\" Find prime factor of a number and sum of their squares \"\"\"\n",
    "\n",
    "def get_prime_factor(n):\n",
    "    i = 2\n",
    "    temp = list()\n",
    "\n",
    "    while i*i <= n:\n",
    "        if n%i == 0:\n",
    "            temp.append(i)\n",
    "            n = n / i\n",
    "        else:\n",
    "            i += 1\n",
    "    \n",
    "    if n>1:\n",
    "        temp.append(n)\n",
    "    \n",
    "    return temp"
   ]
  },
  {
   "cell_type": "code",
   "execution_count": null,
   "id": "af6f984b",
   "metadata": {},
   "outputs": [],
   "source": [
    "prime = list(get_prime_factor(int(input())))\n",
    "factor_square = list()\n",
    "\n",
    "for item in prime:\n",
    "    factor_square.append(item ** 2)\n",
    "    \n",
    "print('result', sum(factor_square))\n"
   ]
  },
  {
   "cell_type": "code",
   "execution_count": null,
   "id": "d293e1a5",
   "metadata": {},
   "outputs": [],
   "source": [
    "\"\"\" Find which year is a leap year \"\"\"\n",
    "\n",
    "def is_leap(year):\n",
    "    if year >= 1900 and year <= 10 **5:\n",
    "        if (year % 400 == 0) or (year % 100 != 0) and (year % 4 == 0):  \n",
    "            leap = True\n",
    "        else:\n",
    "            leap = False\n",
    "    return leap\n",
    "\n",
    "year = int(input())\n",
    "is_leap(year)"
   ]
  },
  {
   "cell_type": "code",
   "execution_count": 12,
   "id": "a3088691",
   "metadata": {},
   "outputs": [
    {
     "name": "stdout",
     "output_type": "stream",
     "text": [
      "enter number of student:3\n",
      "enter names: sitashma\n",
      "enter scores: 40\n",
      "enter names: rahul\n",
      "enter scores: 50\n",
      "enter names: evi\n",
      "enter scores: 30\n",
      "['sitashma', 40.0]\n",
      "['sitashma']\n"
     ]
    }
   ],
   "source": [
    "'''Given the names and grades for each student in a class of  students, store them in a nested list \n",
    "and print the name(s) of any student(s) having the second lowest grade.\n",
    "Example input\n",
    "enter number of student:3\n",
    "enter names: sitashma\n",
    "enter scores: 40\n",
    "enter names: rahul\n",
    "enter scores: 50\n",
    "enter names: evi\n",
    "enter scores: 30'''\n",
    "\n",
    "records = []\n",
    "\n",
    "for _ in range(int(input('enter number of student:'))):\n",
    "    name = input(\"enter names: \")\n",
    "    scores = float(input(\"enter scores: \"))\n",
    "    record = [name,scores] \n",
    "    records.append(record)\n",
    "\n",
    "\n",
    "records.sort(key=lambda x: x[1])\n",
    "second_lowest = records[1]\n",
    "c = second_lowest[1]\n",
    "\n",
    "print(second_lowest)\n",
    "\n",
    "result = []\n",
    "for i in records:\n",
    "    if i[1] == second_lowest[1]: \n",
    "        result.append(i[0])\n",
    "\n",
    "print(sorted(result),sep = '\\n')"
   ]
  },
  {
   "cell_type": "code",
   "execution_count": 15,
   "id": "3d6c4e89",
   "metadata": {},
   "outputs": [
    {
     "name": "stdout",
     "output_type": "stream",
     "text": [
      "2\n"
     ]
    }
   ],
   "source": [
    "\"\"\" Given an array of strings loggedMoves [] representing the changed folder operations performed on the file system. \n",
    "Initially, the file system opens in the main folder. The task is to find the minimum count of operations of the following\n",
    "three types to return to the main folder:\n",
    "\n",
    "“../”: Moves to the parent folder of the current folder. (If the current folder is the main folder, it remains in the same folder).\n",
    "“./”: Remains in the same folder.\"\"\"\n",
    "\n",
    "def mininmumSteps(moves):\n",
    "    absolute = []\n",
    "    for move in moves:\n",
    "        move = move.strip('/') \n",
    "        if move == '.':\n",
    "            continue\n",
    "        elif move == '..': \n",
    "            try:\n",
    "                absolute.pop()\n",
    "            except IndexError:\n",
    "                pass \n",
    "        else:\n",
    "            absolute.append(move)\n",
    "    return absolute\n",
    "loggedMoves = ['x/', 'y/', '../', 'z/', './','../','f/']\n",
    "\n",
    "print(len(mininmumSteps(loggedMoves)))"
   ]
  },
  {
   "cell_type": "code",
   "execution_count": null,
   "id": "b4dae08f",
   "metadata": {},
   "outputs": [],
   "source": [
    "\"\"\" Write code to perform the action such as append, insert, pop,sort and reverse\"\"\"\n",
    "    \n",
    "N = int(input())\n",
    "lst = list()\n",
    "for i in range(N):\n",
    "    command = input()\n",
    "    if command.startswith('append'):\n",
    "        c, item = command.split()\n",
    "        lst.append(int(item))\n",
    "    elif command.startswith('insert'):\n",
    "        c,item,position = command.split()\n",
    "        lst.insert(int(item),int(position))\n",
    "    elif command.startswith('print'):\n",
    "        print(lst)\n",
    "    elif command.startswith('pop'):\n",
    "        lst.pop(-1)\n",
    "    elif command.startswith('reverse'):\n",
    "        lst.reverse()\n",
    "    elif command.startswith('remove'):\n",
    "        c,item = command.split()\n",
    "        lst.remove(int(item))\n",
    "    elif command.startswith('sort'):\n",
    "        lst.sort()"
   ]
  }
 ],
 "metadata": {
  "kernelspec": {
   "display_name": "Python 3 (ipykernel)",
   "language": "python",
   "name": "python3"
  },
  "language_info": {
   "codemirror_mode": {
    "name": "ipython",
    "version": 3
   },
   "file_extension": ".py",
   "mimetype": "text/x-python",
   "name": "python",
   "nbconvert_exporter": "python",
   "pygments_lexer": "ipython3",
   "version": "3.10.6"
  }
 },
 "nbformat": 4,
 "nbformat_minor": 5
}
